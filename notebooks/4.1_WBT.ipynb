{
 "cells": [
  {
   "cell_type": "code",
   "execution_count": 2,
   "metadata": {},
   "outputs": [],
   "source": [
    "import xarray as xr\n",
    "from matplotlib import pyplot as plt\n",
    "import numpy as np\n",
    "import math\n",
    "from xhistogram.xarray import histogram\n",
    "%load_ext autoreload\n",
    "%autoreload 2\n",
    "import pei.myfunctions as mf"
   ]
  },
  {
   "cell_type": "code",
   "execution_count": 3,
   "metadata": {},
   "outputs": [],
   "source": [
    "# Specify root directory, experiment, filename format\n",
    "rootdir = '/local/ss23/CESM2_LE/ATM/RCP85/WBT'\n",
    "filename = '/b.e21.BHISTcmip6.f09_g17.LE2-1231.001.clm2.h7.WBT.1980010100-1990010100.nc' \n",
    "path = rootdir+filename\n",
    "\n",
    "# Load data from matching files\n",
    "ds = xr.open_dataset(path)"
   ]
  },
  {
   "cell_type": "code",
   "execution_count": 4,
   "metadata": {},
   "outputs": [],
   "source": [
    "lon = ds['lon']\n",
    "lat = ds['lat']\n",
    "\n",
    "# Dictionary of region masks, represented by lon and lat arrays\n",
    "masks = {}\n",
    "masks['Global'] = [lon, lat]\n",
    "masks['Northern North America'] = [lon.where((190<=lon)&(lon<=310),drop=True).values,lat.where((45<=lat)&(lat<=75),drop=True).values]\n",
    "masks['Central North America'] = [lon.where((230<=lon)&(lon<=310),drop=True).values,lat.where((35<=lat)&(lat<=45),drop=True).values]\n",
    "masks['South-Central America'] = [lon.where((230<=lon)&(lon<=330),drop=True).values,lat.where((-30<=lat)&(lat<=35),drop=True).values]\n",
    "masks['Southern South America'] = [lon.where((270<=lon)&(lon<=330),drop=True).values,lat.where((-60<=lat)&(lat<=-30),drop=True).values]\n",
    "masks['China'] = [lon.where((75<=lon)&(lon<=135),drop=True).values,lat.where((22.5<=lat)&(lat<=50),drop=True).values]\n",
    "masks['India'] = [lon.where((68<=lon)&(lon<=90),drop=True).values,lat.where((8<=lat)&(lat<=30),drop=True).values]\n",
    "masks['Oceania'] = [lon.where((100<=lon)&(lon<=180),drop=True).values,lat.where((-50<=lat)&(lat<=0),drop=True).values]\n",
    "masks['Russia'] = [lon.where((30<=lon)&(lon<=180),drop=True).values,lat.where((50<=lat)&(lat<=75),drop=True).values]\n",
    "masks['Scandinavia'] = [lon.where((3<=lon)&(lon<=30),drop=True).values,lat.where((55<=lat)&(lat<=70),drop=True).values]\n",
    "lon_west = lon.where(lon>=345,drop=True)\n",
    "lon_east = lon.where(lon<=30,drop=True)\n",
    "lon_eur = xr.concat((lon_west,lon_east),dim='lon').values\n",
    "masks['Europe'] = [lon_eur,lat.where((35<=lat)&(lat<=55),drop=True)]\n",
    "lon_west = lon.where(lon>=355,drop=True)\n",
    "lon_east = lon.where(lon<=10,drop=True)\n",
    "lon_france = xr.concat((lon_west,lon_east),dim='lon').values\n",
    "masks['France'] = [lon_france,lat.where((40<=lat)&(lat<=52),drop=True)]\n",
    "masks['Middle East'] = [lon.where((25<=lon)&(lon<=60),drop=True).values,lat.where((10<=lat)&(lat<=40),drop=True).values]\n",
    "masks['Southeast Asia'] = [lon.where((92<=lon)&(lon<=140),drop=True).values,lat.where((-10<=lat)&(lat<=25),drop=True).values]\n"
   ]
  },
  {
   "cell_type": "code",
   "execution_count": 5,
   "metadata": {},
   "outputs": [],
   "source": [
    "def slice_region(ds, region):\n",
    "    ds_region = ds.sel(lon=masks[region][0],lat=masks[region][1])\n",
    "    return ds_region"
   ]
  },
  {
   "cell_type": "code",
   "execution_count": 6,
   "metadata": {},
   "outputs": [],
   "source": [
    "# Function to generate histogram\n",
    "def hist(ds,area):\n",
    "    # Span range of temperatures\n",
    "    bins = np.linspace(-40,40,40)\n",
    "    \n",
    "    # Create histogram\n",
    "    h = histogram(ds['WBT'],bins=[bins],weights=(ds['area']*ds['landfrac'])/area_region,density=True)\n",
    "    return h"
   ]
  },
  {
   "cell_type": "code",
   "execution_count": 92,
   "metadata": {},
   "outputs": [
    {
     "data": {
      "text/plain": [
       "[<matplotlib.lines.Line2D at 0x7fddb24aa910>]"
      ]
     },
     "execution_count": 92,
     "metadata": {},
     "output_type": "execute_result"
    },
    {
     "data": {
      "image/png": "[encoded data removed]",
      "text/plain": [
       "<Figure size 432x288 with 1 Axes>"
      ]
     },
     "metadata": {
      "needs_background": "light"
     },
     "output_type": "display_data"
    }
   ],
   "source": [
    "# Data for a specific region\n",
    "region = 'India'\n",
    "region_all = slice_region(ds,region)\n",
    "ds_region = region_all.where(region_all['landmask']==1,0)\n",
    "area_region = (ds_region['area']*ds_region['landfrac']).sum(['lon','lat'])\n",
    "\n",
    "# Get years in data\n",
    "years = np.unique(ds_region['time.year'])\n",
    "\n",
    "total_hist = np.zeros(39)\n",
    "\n",
    "for year in years:\n",
    "    region_annual = ds_region.where(ds_region['time.year']==year,drop=True)\n",
    "    total_hist += hist(region_annual.groupby('time.dayofyear').max(),area_region)\n",
    "\n",
    "numcells = len(masks[region][0])*len(masks[region][0])\n",
    "hist_avg = total_hist/(10)\n",
    "hist_avg.plot()"
   ]
  },
  {
   "cell_type": "code",
   "execution_count": 7,
   "metadata": {},
   "outputs": [
    {
     "data": {
      "text/plain": [
       "[<matplotlib.lines.Line2D at 0x7f25b34a1c70>]"
      ]
     },
     "execution_count": 7,
     "metadata": {},
     "output_type": "execute_result"
    },
    {
     "data": {
      "image/png": "[encoded data removed]",
      "text/plain": [
       "<Figure size 432x288 with 1 Axes>"
      ]
     },
     "metadata": {
      "needs_background": "light"
     },
     "output_type": "display_data"
    }
   ],
   "source": [
    "# Data for a specific region\n",
    "region = 'Middle East'\n",
    "region_all = slice_region(ds,region)\n",
    "ds_region = region_all.where(region_all['landmask']==1,0)\n",
    "area_region = (ds_region['area']*ds_region['landfrac']).sum(['lon','lat'])\n",
    "\n",
    "# Get years in data\n",
    "years = np.unique(ds_region['time.year'])\n",
    "\n",
    "total_hist = np.zeros(39)\n",
    "\n",
    "for year in years:\n",
    "    region_annual = ds_region.where(ds_region['time.year']==year,drop=True)\n",
    "    total_hist += hist(region_annual.groupby('time.dayofyear').max(),area_region)\n",
    "\n",
    "numcells = len(masks[region][0])*len(masks[region][0])\n",
    "hist_avg = total_hist/(10)\n",
    "hist_avg.plot()"
   ]
  },
  {
   "cell_type": "code",
   "execution_count": null,
   "metadata": {},
   "outputs": [],
   "source": []
  }
 ],
 "metadata": {
  "kernelspec": {
   "display_name": "Python 3",
   "language": "python",
   "name": "python3"
  },
  "language_info": {
   "codemirror_mode": {
    "name": "ipython",
    "version": 3
   },
   "file_extension": ".py",
   "mimetype": "text/x-python",
   "name": "python",
   "nbconvert_exporter": "python",
   "pygments_lexer": "ipython3",
   "version": "3.8.2"
  }
 },
 "nbformat": 4,
 "nbformat_minor": 4
}
