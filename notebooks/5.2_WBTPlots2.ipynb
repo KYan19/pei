{
 "cells": [
  {
   "cell_type": "code",
   "execution_count": 1,
   "metadata": {},
   "outputs": [],
   "source": [
    "import xarray as xr\n",
    "from matplotlib import pyplot as plt\n",
    "import numpy as np\n",
    "%load_ext autoreload\n",
    "%autoreload 2\n",
    "import pei.myfunctions as mf\n",
    "from xhistogram.xarray import histogram\n",
    "from dask.diagnostics import ProgressBar"
   ]
  },
  {
   "cell_type": "markdown",
   "metadata": {},
   "source": [
    "# Looping Method"
   ]
  },
  {
   "cell_type": "code",
   "execution_count": null,
   "metadata": {},
   "outputs": [],
   "source": [
    "# Load area data\n",
    "land_area = xr.open_dataset('../data/processed/wbt.land_area')\n",
    "land_mask = np.isfinite(land_area)\n",
    "# Replace NaN with 0 \n",
    "land_area_adj = land_area.where(land_mask,0).rename({'__xarray_dataarray_variable__':'land_area'})\n",
    "land_area_adj = land_area_adj['land_area'].isel(ensemble=0)\n",
    "\n",
    "region = 'India'\n",
    "years = np.arange(2070,2101)\n",
    "fracs = []\n",
    "ds_area = mf.slice_region(land_area_adj,region)\n",
    "total_area = ds_area.sum()\n",
    "\n",
    "for year in years:\n",
    "    ds = xr.open_dataset('../data/processed/WBTyearly/WBT'+str(year)+'.nc')\n",
    "    ds_region = mf.slice_region(ds,region)\n",
    "    \n",
    "    ds_frac = (ds_region.sel(WBT_bin=slice(25,None)).sum(['ensemble','WBT_bin']))/1825\n",
    "    ds_hot = np.isfinite(ds_frac.where(ds_frac>0.2,drop=True))\n",
    "    frac = (ds_hot*ds_area).sum()/total_area\n",
    "    \n",
    "    # Add to array\n",
    "    fracs.append(frac['histogram_WBT'].values.item())"
   ]
  },
  {
   "cell_type": "code",
   "execution_count": 93,
   "metadata": {},
   "outputs": [
    {
     "data": {
      "text/plain": [
       "[<matplotlib.lines.Line2D at 0x7f55312a5670>]"
      ]
     },
     "execution_count": 93,
     "metadata": {},
     "output_type": "execute_result"
    },
    {
     "data": {
      "image/png": "[encoded data removed]",
      "text/plain": [
       "<Figure size 432x288 with 1 Axes>"
      ]
     },
     "metadata": {
      "needs_background": "light"
     },
     "output_type": "display_data"
    }
   ],
   "source": [
    "plt.plot(years,fracs)"
   ]
  },
  {
   "cell_type": "code",
   "execution_count": null,
   "metadata": {},
   "outputs": [],
   "source": []
  }
 ],
 "metadata": {
  "kernelspec": {
   "display_name": "Python 3",
   "language": "python",
   "name": "python3"
  },
  "language_info": {
   "codemirror_mode": {
    "name": "ipython",
    "version": 3
   },
   "file_extension": ".py",
   "mimetype": "text/x-python",
   "name": "python",
   "nbconvert_exporter": "python",
   "pygments_lexer": "ipython3",
   "version": "3.8.2"
  }
 },
 "nbformat": 4,
 "nbformat_minor": 4
}
