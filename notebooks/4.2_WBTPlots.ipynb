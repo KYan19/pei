{
 "cells": [
  {
   "cell_type": "code",
   "execution_count": 2,
   "metadata": {},
   "outputs": [],
   "source": [
    "import xarray as xr\n",
    "from matplotlib import pyplot as plt\n",
    "import numpy as np\n",
    "import math\n",
    "from xhistogram.xarray import histogram\n",
    "%load_ext autoreload\n",
    "%autoreload 2\n",
    "import pei.myfunctions as mf"
   ]
  },
  {
   "cell_type": "code",
   "execution_count": 3,
   "metadata": {},
   "outputs": [],
   "source": [
    "# Specify root directory, experiment, filename format\n",
    "rootdir = '/local/ss23/CESM2_LE/ATM/RCP85/WBT'\n",
    "filename_2085 = '/b.e21.BSSP370cmip6.f09_g17.LE2-1231.*.clm2.h7.WBT.2085010100-2095010100.nc' \n",
    "paths_2085 = rootdir+filename_2085\n",
    "\n",
    "# Load data from matching files\n",
    "ds_2085 = xr.open_mfdataset(paths_2085,combine='nested',concat_dim='ensemble')['WBT']\n",
    "mean_2085 = ds_2085.mean(dim='ensemble').mean(dim='time')"
   ]
  },
  {
   "cell_type": "code",
   "execution_count": null,
   "metadata": {},
   "outputs": [],
   "source": [
    "filename_1980 = '/b.e21.BHISTcmip6.f09_g17.LE2-1231.*.clm2.h7.WBT.1980010100-1990010100.nc' \n",
    "paths_1980 = rootdir+filename_2085\n",
    "\n",
    "# Load data from matching files\n",
    "ds_1980 = xr.open_mfdataset(paths_1980,combine='nested',concat_dim='ensemble')['WBT']\n",
    "mean_1980 = ds_1980.mean(dim='ensemble').mean(dim='time')"
   ]
  },
  {
   "cell_type": "code",
   "execution_count": null,
   "metadata": {},
   "outputs": [],
   "source": [
    "# Plot global temperature\n",
    "mf.contour_plot(mean_2085,region='Global',title='2085-2095 Decadal Mean WBT: Global',cmap='Reds')"
   ]
  },
  {
   "cell_type": "code",
   "execution_count": null,
   "metadata": {},
   "outputs": [],
   "source": [
    "mean_diff = mean_2085-mean_1980\n",
    "mf.contour_plot(mean_diff,region='Global',title='Difference in Decadal Mean Temperature: 2090s - 1980s, Global',cmap='OrRd')"
   ]
  }
 ],
 "metadata": {
  "kernelspec": {
   "display_name": "Python 3",
   "language": "python",
   "name": "python3"
  },
  "language_info": {
   "codemirror_mode": {
    "name": "ipython",
    "version": 3
   },
   "file_extension": ".py",
   "mimetype": "text/x-python",
   "name": "python",
   "nbconvert_exporter": "python",
   "pygments_lexer": "ipython3",
   "version": "3.8.2"
  }
 },
 "nbformat": 4,
 "nbformat_minor": 4
}
