{
 "cells": [
  {
   "cell_type": "code",
   "execution_count": 1,
   "metadata": {},
   "outputs": [],
   "source": [
    "import xarray as xr\n",
    "from matplotlib import pyplot as plt\n",
    "from cartopy import crs as ccrs\n",
    "import cartopy.feature as cfeature\n",
    "import numpy as np\n",
    "%load_ext autoreload\n",
    "%autoreload 2\n",
    "import pei.myfunctions as mf"
   ]
  },
  {
   "cell_type": "code",
   "execution_count": null,
   "metadata": {},
   "outputs": [],
   "source": [
    "# Specify root directory, experiment, filename format\n",
    "rootdir = '/local/ss23/GFDL_LEs/ATM/'\n",
    "experiment = 'RCP85'\n",
    "filename = '/sphum_k24.rcp85.ens*.1950_2100.nc'\n",
    "paths = rootdir+experiment+filename\n",
    "\n",
    "# Load data from matching files\n",
    "data = xr.open_mfdataset(paths,combine='nested',concat_dim='ensemble')\n",
    "\n",
    "# Convert data to annual average\n",
    "mean_annual = mf.annual_average(data,'sphum')\n",
    "\n",
    "# Save data for easy future loading\n",
    "mean_annual.to_netcdf('../data/processed/sphum.rcp85.ens3mean.1950_2100.nc')"
   ]
  },
  {
   "cell_type": "code",
   "execution_count": 5,
   "metadata": {},
   "outputs": [],
   "source": [
    "# Load average temperature data\n",
    "mean_annual = xr.open_dataset('../data/processed/sphum.rcp85.ens3mean.1950_2100.nc')['sphum']"
   ]
  },
  {
   "cell_type": "code",
   "execution_count": null,
   "metadata": {},
   "outputs": [],
   "source": [
    "# Create figure, axes\n",
    "fig, axs = plt.subplots(figsize=(32,8),ncols=3)\n",
    "\n",
    "# Calculate area-weighted averages\n",
    "regions1 = ['Global','Northern North America','Central North America','South-Central America','Southern South America']\n",
    "regions2 = ['Global','India','China','Oceania','Russia','Southeast Asia']\n",
    "regions3 = ['Global','Europe','Scandinavia','Middle East']\n",
    "\n",
    "# Subplot index\n",
    "index = 0\n",
    "\n",
    "# Plot regions\n",
    "for subset in [regions1,regions2,regions3]:\n",
    "    ax = axs[index]\n",
    "    for region in subset:\n",
    "        # Calculate area-weighted average temperature\n",
    "        regional_mean = mf.area_weighted(mean_annual,land_area,region)\n",
    "\n",
    "        # Plot area-weighted average\n",
    "        regional_mean.plot(ax=ax)\n",
    "\n",
    "    # Set title + legend\n",
    "    ax.legend(subset)\n",
    "    ax.set_xlabel('Year')\n",
    "    ax.set_ylabel('Specific Humidity')\n",
    "    index+=1\n",
    "\n",
    "# Overarching title\n",
    "fig.suptitle('Area-Weighted Annual Average Specific Humidity',fontsize=20)"
   ]
  }
 ],
 "metadata": {
  "kernelspec": {
   "display_name": "Python 3",
   "language": "python",
   "name": "python3"
  },
  "language_info": {
   "codemirror_mode": {
    "name": "ipython",
    "version": 3
   },
   "file_extension": ".py",
   "mimetype": "text/x-python",
   "name": "python",
   "nbconvert_exporter": "python",
   "pygments_lexer": "ipython3",
   "version": "3.8.2"
  }
 },
 "nbformat": 4,
 "nbformat_minor": 4
}
