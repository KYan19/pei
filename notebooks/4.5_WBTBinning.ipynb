{
 "cells": [
  {
   "cell_type": "code",
   "execution_count": 2,
   "metadata": {},
   "outputs": [],
   "source": [
    "import xarray as xr\n",
    "from matplotlib import pyplot as plt\n",
    "import numpy as np\n",
    "%load_ext autoreload\n",
    "%autoreload 2\n",
    "import pei.myfunctions as mf\n",
    "from xhistogram.xarray import histogram\n",
    "from dask.diagnostics import ProgressBar"
   ]
  },
  {
   "cell_type": "code",
   "execution_count": 3,
   "metadata": {},
   "outputs": [],
   "source": [
    "# Load WBT data\n",
    "ds = xr.open_mfdataset('../data/processed/WBTdaily/WBTdailyens*.nc',combine='nested',concat_dim='ensemble',chunks={'time':1000})\n",
    "\n",
    "# Load area data\n",
    "land_area = xr.open_dataset('../data/processed/wbt.land_area')\n",
    "land_mask = np.isfinite(land_area)\n",
    "\n",
    "# Replace NaN with 0 \n",
    "land_area_adj = land_area.where(land_mask,0).rename({'__xarray_dataarray_variable__':'land_area'})"
   ]
  },
  {
   "cell_type": "code",
   "execution_count": 25,
   "metadata": {},
   "outputs": [],
   "source": [
    "# Dictionary to store binned DataArrays\n",
    "ds_dict = {}\n",
    "\n",
    "regions = ['India','Southeast Asia','Northern Oceania','Central America','Northern South America','Southern South America',\n",
    "          'Southern China','Southern Europe','Middle East','Central Africa']"
   ]
  },
  {
   "cell_type": "code",
   "execution_count": 26,
   "metadata": {},
   "outputs": [],
   "source": [
    "for region in regions:\n",
    "    # Isolate WBT and area data for region\n",
    "    ds_region = mf.slice_region(ds,region)\n",
    "    area_region = mf.slice_region(land_area_adj,region)\n",
    "\n",
    "    # Specify histogram variable\n",
    "    var = ds_region['WBT']\n",
    "\n",
    "    # Bins to divide data at each point in time\n",
    "    bins = np.arange(-55,40,0.1)\n",
    "\n",
    "    # Specify area-weight variable\n",
    "    area_weights = area_region['land_area']\n",
    "\n",
    "    # Histogram in lat and lon dimensions\n",
    "    dist = histogram(var,bins=[bins],dim=['lat','lon'],weights=area_weights)\n",
    "\n",
    "    # Sum distributions within each year\n",
    "    dist_annual = dist.groupby('time.year').sum('time')\n",
    "\n",
    "    # Divide by area under curve to get PDF\n",
    "    dist_annual = dist_annual/dist_annual.sum('WBT_bin')\n",
    "    \n",
    "    # Add to dictionary\n",
    "    ds_dict[region] = dist_annual"
   ]
  },
  {
   "cell_type": "code",
   "execution_count": 27,
   "metadata": {},
   "outputs": [],
   "source": [
    "ds_byregion = xr.Dataset(ds_dict)\n",
    "#ds_byregion.to_netcdf('../data/processed/WBT_binned.nc')"
   ]
  },
  {
   "cell_type": "code",
   "execution_count": null,
   "metadata": {},
   "outputs": [],
   "source": []
  }
 ],
 "metadata": {
  "kernelspec": {
   "display_name": "Python 3",
   "language": "python",
   "name": "python3"
  },
  "language_info": {
   "codemirror_mode": {
    "name": "ipython",
    "version": 3
   },
   "file_extension": ".py",
   "mimetype": "text/x-python",
   "name": "python",
   "nbconvert_exporter": "python",
   "pygments_lexer": "ipython3",
   "version": "3.8.2"
  }
 },
 "nbformat": 4,
 "nbformat_minor": 4
}
