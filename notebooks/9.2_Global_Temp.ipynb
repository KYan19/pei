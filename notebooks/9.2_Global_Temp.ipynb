{
 "cells": [
  {
   "cell_type": "code",
   "execution_count": 1,
   "metadata": {},
   "outputs": [],
   "source": [
    "import xarray as xr\n",
    "import numpy as np"
   ]
  },
  {
   "cell_type": "code",
   "execution_count": 29,
   "metadata": {},
   "outputs": [],
   "source": [
    "#directory with temp files\n",
    "direct = '/local/ss23/HISTORICAL_TAS_GFDL_CESM2/'\n",
    "gfdl_temp = xr.open_dataset(direct+'tas_Amon_GFDL-ESM2M_hist_rcp85_r1i1p1_186101_210512.nc')['tas']\n",
    "\n",
    "#GFDL grid cell areas\n",
    "gfdl_area = xr.open_dataset('../data/processed/GFDL/areacella.nc')['areacella']\n",
    "#match lat coordinates to those of temp file\n",
    "gfdl_area = gfdl_area.assign_coords({'lat':gfdl_temp['lat']})"
   ]
  },
  {
   "cell_type": "code",
   "execution_count": 42,
   "metadata": {},
   "outputs": [],
   "source": [
    "#area-weighted global average over time\n",
    "gfdl_temp_global = gfdl_temp.weighted(gfdl_area).mean(['lat','lon'])\n",
    "\n",
    "#historical average (1861-1900)\n",
    "gfdl_hist = gfdl_temp_global.isel(time=slice(0,468)).mean()"
   ]
  },
  {
   "cell_type": "code",
   "execution_count": 52,
   "metadata": {},
   "outputs": [
    {
     "name": "stderr",
     "output_type": "stream",
     "text": [
      "/home/aos/kyan/miniconda3/envs/pei/lib/python3.8/site-packages/xarray/conventions.py:487: SerializationWarning: variable 'tas' has multiple fill values {1e+20, 1e+20}, decoding all values to NaN.\n",
      "  new_vars[k] = decode_cf_variable(\n"
     ]
    }
   ],
   "source": [
    "cesm2_temp=xr.open_mfdataset(direct+'tas_Amon_CESM2_hist_ssp370*',combine='nested',concat_dim='ensemble')['tas']"
   ]
  },
  {
   "cell_type": "code",
   "execution_count": null,
   "metadata": {},
   "outputs": [],
   "source": []
  }
 ],
 "metadata": {
  "kernelspec": {
   "display_name": "Python 3",
   "language": "python",
   "name": "python3"
  },
  "language_info": {
   "codemirror_mode": {
    "name": "ipython",
    "version": 3
   },
   "file_extension": ".py",
   "mimetype": "text/x-python",
   "name": "python",
   "nbconvert_exporter": "python",
   "pygments_lexer": "ipython3",
   "version": "3.8.2"
  }
 },
 "nbformat": 4,
 "nbformat_minor": 4
}
