{
 "cells": [
  {
   "cell_type": "code",
   "execution_count": 21,
   "metadata": {},
   "outputs": [],
   "source": [
    "import xarray as xr\n",
    "from matplotlib import pyplot as plt\n",
    "from cartopy import crs as ccrs\n",
    "import cartopy.feature as cfeature\n",
    "from cartopy.util import add_cyclic_point\n",
    "import numpy as np"
   ]
  },
  {
   "cell_type": "code",
   "execution_count": 79,
   "metadata": {},
   "outputs": [],
   "source": [
    "# Open population data (raster 5 = 2020 population)\n",
    "ds = xr.open_dataset('../data/processed/population.nc').sel(raster=5)\n",
    "ds = ds.rename({'UN WPP-Adjusted Population Count, v4.11 (2000, 2005, 2010, 2015, 2020): 1 degree':'population'})\n",
    "ds = ds.where(np.isfinite(ds['population']),0)"
   ]
  },
  {
   "cell_type": "code",
   "execution_count": 80,
   "metadata": {},
   "outputs": [],
   "source": [
    "# Regrid population data first to be 0-360, not -180-180\n",
    "ds = ds.assign_coords({'longitude':ds['longitude']%360})"
   ]
  },
  {
   "cell_type": "code",
   "execution_count": 81,
   "metadata": {},
   "outputs": [],
   "source": [
    "# Open example data file with desired gridding\n",
    "ds_ex = xr.open_dataset('../data/processed/wbt.land_area')"
   ]
  },
  {
   "cell_type": "code",
   "execution_count": 82,
   "metadata": {},
   "outputs": [],
   "source": [
    "# Get arrays for desired lat and lon values\n",
    "regrid_lat = ds_ex['lat'].values\n",
    "regrid_lon = ds_ex['lon'].values"
   ]
  },
  {
   "cell_type": "code",
   "execution_count": 83,
   "metadata": {},
   "outputs": [],
   "source": [
    "# Regrid dataset\n",
    "ds_regrid = ds.interp({'latitude':regrid_lat,'longitude':regrid_lon})"
   ]
  },
  {
   "cell_type": "code",
   "execution_count": 84,
   "metadata": {},
   "outputs": [],
   "source": [
    "ds_regrid.to_netcdf('../data/processed/population_regrid.nc')"
   ]
  },
  {
   "cell_type": "code",
   "execution_count": null,
   "metadata": {},
   "outputs": [],
   "source": []
  }
 ],
 "metadata": {
  "kernelspec": {
   "display_name": "Python 3",
   "language": "python",
   "name": "python3"
  },
  "language_info": {
   "codemirror_mode": {
    "name": "ipython",
    "version": 3
   },
   "file_extension": ".py",
   "mimetype": "text/x-python",
   "name": "python",
   "nbconvert_exporter": "python",
   "pygments_lexer": "ipython3",
   "version": "3.8.2"
  }
 },
 "nbformat": 4,
 "nbformat_minor": 4
}
